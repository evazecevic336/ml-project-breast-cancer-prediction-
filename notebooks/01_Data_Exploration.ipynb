{
 "cells": [
  {
   "cell_type": "code",
   "id": "initial_id",
   "metadata": {
    "collapsed": true
   },
   "source": [
    "import pandas as pd\n",
    "df = pd.read_csv('../data/breast-cancer-data.csv')"
   ],
   "outputs": [],
   "execution_count": null
  },
  {
   "metadata": {},
   "cell_type": "code",
   "source": "df.head()",
   "id": "58c5dee2f5406201",
   "outputs": [],
   "execution_count": null
  },
  {
   "metadata": {},
   "cell_type": "code",
   "source": "df.info()",
   "id": "ae0b4ca50e98f855",
   "outputs": [],
   "execution_count": null
  },
  {
   "metadata": {},
   "cell_type": "code",
   "source": [
    "# Removal of apostrofes\n",
    "for col in df.columns:\n",
    "    if df[col].dtype == 'object':\n",
    "        df[col] = df[col].str.rstrip(\"'\")\n",
    "\n",
    "# Checking if I removed apostrofes\n",
    "df.head()"
   ],
   "id": "fc3bd5c2103137bb",
   "outputs": [],
   "execution_count": null
  },
  {
   "metadata": {},
   "cell_type": "code",
   "source": [
    "# Filling in missing values in a way that we input the most frequent entries instead of missing ones\n",
    "for column in ['node-caps', 'breast-quad']:\n",
    "    most_frequent_value = df[column].mode()[0]\n",
    "    df[column] = df[column].fillna(most_frequent_value)\n",
    "\n",
    "    df.info( )"
   ],
   "id": "7b7eb7b36422874c",
   "outputs": [],
   "execution_count": null
  },
  {
   "metadata": {},
   "cell_type": "code",
   "source": [
    "##ENCODING\n",
    "X = df.drop('class', axis=1)\n",
    "y = df['class']"
   ],
   "id": "d16d09b500a7629e",
   "outputs": [],
   "execution_count": null
  },
  {
   "metadata": {},
   "cell_type": "code",
   "source": [
    "from sklearn.preprocessing import LabelEncoder\n",
    "\n",
    "le = LabelEncoder()\n",
    "y_encoded = le.fit_transform(y)\n",
    "\n",
    "# To see how function labeled our classes\n",
    "print(dict(zip(le.classes_, le.transform(le.classes_))))"
   ],
   "id": "6c909edd7392e928",
   "outputs": [],
   "execution_count": null
  },
  {
   "metadata": {},
   "cell_type": "code",
   "source": [
    "from sklearn.compose import ColumnTransformer\n",
    "from sklearn.preprocessing import OrdinalEncoder, OneHotEncoder\n",
    "\n",
    "# We define which columns are ordinal and in which order\n",
    "ordinal_features = ['age', 'tumer-size', 'inv-nodes', 'deg-malig']\n",
    "age_cats = ['20-29', '30-39', '40-49', '50-59', '60-69', '70-79']\n",
    "tumer_size_cats = ['0-4', '5-9', '10-14', '15-19', '20-24', '25-29', '30-34', '35-39', '40-44', '45-49', '50-54']\n",
    "inv_nodes_cats = ['0-2', '3-5', '6-8', '9-11', '12-14', '15-17', '24-26']\n",
    "deg_malig_cats = ['1', '2', '3']\n",
    "ordinal_categories = [age_cats, tumer_size_cats, inv_nodes_cats, deg_malig_cats]\n",
    "\n",
    "# We define whick columns are nominal\n",
    "nominal_features = ['menopause', 'node-caps', 'breast', 'breast-quad', 'irradiate']\n",
    "\n"
   ],
   "id": "7c7c88f5ffb4be7c",
   "outputs": [],
   "execution_count": null
  },
  {
   "metadata": {
    "ExecuteTime": {
     "end_time": "2025-07-28T18:30:02.046076Z",
     "start_time": "2025-07-28T18:30:01.961019Z"
    }
   },
   "cell_type": "code",
   "source": [
    "from sklearn.model_selection import train_test_split\n",
    "\n",
    "X_train, X_test, y_train, y_test = train_test_split(X, y_encoded, test_size=0.2, random_state=42, stratify=y_encoded)"
   ],
   "id": "7af2f3cfd04a9303",
   "outputs": [],
   "execution_count": 36
  },
  {
   "metadata": {
    "ExecuteTime": {
     "end_time": "2025-07-28T18:30:03.514955Z",
     "start_time": "2025-07-28T18:30:03.509031Z"
    }
   },
   "cell_type": "code",
   "source": [
    "# --- LOGISTIC REGRESSION STEP 1: Define the Preprocessor ---\n",
    "# This object will apply different transformations to different columns.\n",
    "from sklearn.compose import ColumnTransformer\n",
    "from sklearn.preprocessing import OrdinalEncoder, OneHotEncoder\n",
    "\n",
    "# We define the preprocessor object\n",
    "# It uses OrdinalEncoder for ordinal features and OneHotEncoder for nominal features\n",
    "preprocessor = ColumnTransformer(transformers=[\n",
    "    ('ord', OrdinalEncoder(categories=ordinal_categories), ordinal_features),\n",
    "    ('nom', OneHotEncoder(handle_unknown='ignore'), nominal_features)\n",
    "])"
   ],
   "id": "fdf70bebf5d6d541",
   "outputs": [],
   "execution_count": 37
  },
  {
   "metadata": {
    "ExecuteTime": {
     "end_time": "2025-07-28T18:33:44.634640Z",
     "start_time": "2025-07-28T18:33:44.629930Z"
    }
   },
   "cell_type": "code",
   "source": [
    "# --- LOGISTIC REGRESSION STEP 2: Build the Full Pipeline ---\n",
    "# This pipeline combines the preprocessing step with the classification model.\n",
    "from sklearn.pipeline import Pipeline\n",
    "from sklearn.linear_model import LogisticRegression\n",
    "\n",
    "model_pipeline = Pipeline(steps=[\n",
    "    # Preprocess the data using defined preprocessor\n",
    "    ('preprocessor', preprocessor),\n",
    "\n",
    "    # Apply the classification model\n",
    "    ('classifier', LogisticRegression(random_state=42, max_iter=1000, class_weight='balanced'))\n",
    "])"
   ],
   "id": "a3cdc1bc86d13659",
   "outputs": [],
   "execution_count": 39
  }
 ],
 "metadata": {
  "kernelspec": {
   "display_name": "Python 3",
   "language": "python",
   "name": "python3"
  },
  "language_info": {
   "codemirror_mode": {
    "name": "ipython",
    "version": 2
   },
   "file_extension": ".py",
   "mimetype": "text/x-python",
   "name": "python",
   "nbconvert_exporter": "python",
   "pygments_lexer": "ipython2",
   "version": "2.7.6"
  }
 },
 "nbformat": 4,
 "nbformat_minor": 5
}
