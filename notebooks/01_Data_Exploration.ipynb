{
 "cells": [
  {
   "cell_type": "code",
   "id": "initial_id",
   "metadata": {
    "collapsed": true,
    "ExecuteTime": {
     "end_time": "2025-07-24T17:40:07.408178Z",
     "start_time": "2025-07-24T17:40:07.402912Z"
    }
   },
   "source": [
    "import pandas as pd\n",
    "df = pd.read_csv('../data/breast-cancer-data.csv')"
   ],
   "outputs": [],
   "execution_count": 24
  },
  {
   "metadata": {
    "ExecuteTime": {
     "end_time": "2025-07-24T17:40:11.498367Z",
     "start_time": "2025-07-24T17:40:11.487271Z"
    }
   },
   "cell_type": "code",
   "source": "df.head()",
   "id": "58c5dee2f5406201",
   "outputs": [
    {
     "data": {
      "text/plain": [
       "      age menopause tumer-size inv-nodes node-caps deg-malig  breast  \\\n",
       "0  40-49'  premeno'     15-19'      0-2'      yes'        3'  right'   \n",
       "1  50-59'     ge40'     15-19'      0-2'       no'        1'  right'   \n",
       "2  50-59'     ge40'     35-39'      0-2'       no'        2'   left'   \n",
       "3  40-49'  premeno'     35-39'      0-2'      yes'        3'  right'   \n",
       "4  40-49'  premeno'     30-34'      3-5'      yes'        2'   left'   \n",
       "\n",
       "  breast-quad irradiate                  class  \n",
       "0    left_up'       no'     recurrence-events'  \n",
       "1    central'       no'  no-recurrence-events'  \n",
       "2   left_low'       no'     recurrence-events'  \n",
       "3   left_low'      yes'  no-recurrence-events'  \n",
       "4   right_up'       no'     recurrence-events'  "
      ],
      "text/html": [
       "<div>\n",
       "<style scoped>\n",
       "    .dataframe tbody tr th:only-of-type {\n",
       "        vertical-align: middle;\n",
       "    }\n",
       "\n",
       "    .dataframe tbody tr th {\n",
       "        vertical-align: top;\n",
       "    }\n",
       "\n",
       "    .dataframe thead th {\n",
       "        text-align: right;\n",
       "    }\n",
       "</style>\n",
       "<table border=\"1\" class=\"dataframe\">\n",
       "  <thead>\n",
       "    <tr style=\"text-align: right;\">\n",
       "      <th></th>\n",
       "      <th>age</th>\n",
       "      <th>menopause</th>\n",
       "      <th>tumer-size</th>\n",
       "      <th>inv-nodes</th>\n",
       "      <th>node-caps</th>\n",
       "      <th>deg-malig</th>\n",
       "      <th>breast</th>\n",
       "      <th>breast-quad</th>\n",
       "      <th>irradiate</th>\n",
       "      <th>class</th>\n",
       "    </tr>\n",
       "  </thead>\n",
       "  <tbody>\n",
       "    <tr>\n",
       "      <th>0</th>\n",
       "      <td>40-49'</td>\n",
       "      <td>premeno'</td>\n",
       "      <td>15-19'</td>\n",
       "      <td>0-2'</td>\n",
       "      <td>yes'</td>\n",
       "      <td>3'</td>\n",
       "      <td>right'</td>\n",
       "      <td>left_up'</td>\n",
       "      <td>no'</td>\n",
       "      <td>recurrence-events'</td>\n",
       "    </tr>\n",
       "    <tr>\n",
       "      <th>1</th>\n",
       "      <td>50-59'</td>\n",
       "      <td>ge40'</td>\n",
       "      <td>15-19'</td>\n",
       "      <td>0-2'</td>\n",
       "      <td>no'</td>\n",
       "      <td>1'</td>\n",
       "      <td>right'</td>\n",
       "      <td>central'</td>\n",
       "      <td>no'</td>\n",
       "      <td>no-recurrence-events'</td>\n",
       "    </tr>\n",
       "    <tr>\n",
       "      <th>2</th>\n",
       "      <td>50-59'</td>\n",
       "      <td>ge40'</td>\n",
       "      <td>35-39'</td>\n",
       "      <td>0-2'</td>\n",
       "      <td>no'</td>\n",
       "      <td>2'</td>\n",
       "      <td>left'</td>\n",
       "      <td>left_low'</td>\n",
       "      <td>no'</td>\n",
       "      <td>recurrence-events'</td>\n",
       "    </tr>\n",
       "    <tr>\n",
       "      <th>3</th>\n",
       "      <td>40-49'</td>\n",
       "      <td>premeno'</td>\n",
       "      <td>35-39'</td>\n",
       "      <td>0-2'</td>\n",
       "      <td>yes'</td>\n",
       "      <td>3'</td>\n",
       "      <td>right'</td>\n",
       "      <td>left_low'</td>\n",
       "      <td>yes'</td>\n",
       "      <td>no-recurrence-events'</td>\n",
       "    </tr>\n",
       "    <tr>\n",
       "      <th>4</th>\n",
       "      <td>40-49'</td>\n",
       "      <td>premeno'</td>\n",
       "      <td>30-34'</td>\n",
       "      <td>3-5'</td>\n",
       "      <td>yes'</td>\n",
       "      <td>2'</td>\n",
       "      <td>left'</td>\n",
       "      <td>right_up'</td>\n",
       "      <td>no'</td>\n",
       "      <td>recurrence-events'</td>\n",
       "    </tr>\n",
       "  </tbody>\n",
       "</table>\n",
       "</div>"
      ]
     },
     "execution_count": 25,
     "metadata": {},
     "output_type": "execute_result"
    }
   ],
   "execution_count": 25
  },
  {
   "metadata": {
    "ExecuteTime": {
     "end_time": "2025-07-24T17:40:14.497067Z",
     "start_time": "2025-07-24T17:40:14.489563Z"
    }
   },
   "cell_type": "code",
   "source": "df.info()",
   "id": "ae0b4ca50e98f855",
   "outputs": [
    {
     "name": "stdout",
     "output_type": "stream",
     "text": [
      "<class 'pandas.core.frame.DataFrame'>\n",
      "RangeIndex: 286 entries, 0 to 285\n",
      "Data columns (total 10 columns):\n",
      " #   Column       Non-Null Count  Dtype \n",
      "---  ------       --------------  ----- \n",
      " 0   age          286 non-null    object\n",
      " 1   menopause    286 non-null    object\n",
      " 2   tumer-size   286 non-null    object\n",
      " 3   inv-nodes    286 non-null    object\n",
      " 4   node-caps    278 non-null    object\n",
      " 5   deg-malig    286 non-null    object\n",
      " 6   breast       286 non-null    object\n",
      " 7   breast-quad  285 non-null    object\n",
      " 8   irradiate    286 non-null    object\n",
      " 9   class        286 non-null    object\n",
      "dtypes: object(10)\n",
      "memory usage: 22.5+ KB\n"
     ]
    }
   ],
   "execution_count": 26
  },
  {
   "metadata": {
    "ExecuteTime": {
     "end_time": "2025-07-24T17:40:18.562795Z",
     "start_time": "2025-07-24T17:40:18.549564Z"
    }
   },
   "cell_type": "code",
   "source": [
    "#Removal of apostrofes\n",
    "for col in df.columns:\n",
    "    if df[col].dtype == 'object':\n",
    "        df[col] = df[col].str.rstrip(\"'\")\n",
    "\n",
    "# Checking if I removed apostrofes\n",
    "df.head()"
   ],
   "id": "fc3bd5c2103137bb",
   "outputs": [
    {
     "data": {
      "text/plain": [
       "     age menopause tumer-size inv-nodes node-caps deg-malig breast  \\\n",
       "0  40-49   premeno      15-19       0-2       yes         3  right   \n",
       "1  50-59      ge40      15-19       0-2        no         1  right   \n",
       "2  50-59      ge40      35-39       0-2        no         2   left   \n",
       "3  40-49   premeno      35-39       0-2       yes         3  right   \n",
       "4  40-49   premeno      30-34       3-5       yes         2   left   \n",
       "\n",
       "  breast-quad irradiate                 class  \n",
       "0     left_up        no     recurrence-events  \n",
       "1     central        no  no-recurrence-events  \n",
       "2    left_low        no     recurrence-events  \n",
       "3    left_low       yes  no-recurrence-events  \n",
       "4    right_up        no     recurrence-events  "
      ],
      "text/html": [
       "<div>\n",
       "<style scoped>\n",
       "    .dataframe tbody tr th:only-of-type {\n",
       "        vertical-align: middle;\n",
       "    }\n",
       "\n",
       "    .dataframe tbody tr th {\n",
       "        vertical-align: top;\n",
       "    }\n",
       "\n",
       "    .dataframe thead th {\n",
       "        text-align: right;\n",
       "    }\n",
       "</style>\n",
       "<table border=\"1\" class=\"dataframe\">\n",
       "  <thead>\n",
       "    <tr style=\"text-align: right;\">\n",
       "      <th></th>\n",
       "      <th>age</th>\n",
       "      <th>menopause</th>\n",
       "      <th>tumer-size</th>\n",
       "      <th>inv-nodes</th>\n",
       "      <th>node-caps</th>\n",
       "      <th>deg-malig</th>\n",
       "      <th>breast</th>\n",
       "      <th>breast-quad</th>\n",
       "      <th>irradiate</th>\n",
       "      <th>class</th>\n",
       "    </tr>\n",
       "  </thead>\n",
       "  <tbody>\n",
       "    <tr>\n",
       "      <th>0</th>\n",
       "      <td>40-49</td>\n",
       "      <td>premeno</td>\n",
       "      <td>15-19</td>\n",
       "      <td>0-2</td>\n",
       "      <td>yes</td>\n",
       "      <td>3</td>\n",
       "      <td>right</td>\n",
       "      <td>left_up</td>\n",
       "      <td>no</td>\n",
       "      <td>recurrence-events</td>\n",
       "    </tr>\n",
       "    <tr>\n",
       "      <th>1</th>\n",
       "      <td>50-59</td>\n",
       "      <td>ge40</td>\n",
       "      <td>15-19</td>\n",
       "      <td>0-2</td>\n",
       "      <td>no</td>\n",
       "      <td>1</td>\n",
       "      <td>right</td>\n",
       "      <td>central</td>\n",
       "      <td>no</td>\n",
       "      <td>no-recurrence-events</td>\n",
       "    </tr>\n",
       "    <tr>\n",
       "      <th>2</th>\n",
       "      <td>50-59</td>\n",
       "      <td>ge40</td>\n",
       "      <td>35-39</td>\n",
       "      <td>0-2</td>\n",
       "      <td>no</td>\n",
       "      <td>2</td>\n",
       "      <td>left</td>\n",
       "      <td>left_low</td>\n",
       "      <td>no</td>\n",
       "      <td>recurrence-events</td>\n",
       "    </tr>\n",
       "    <tr>\n",
       "      <th>3</th>\n",
       "      <td>40-49</td>\n",
       "      <td>premeno</td>\n",
       "      <td>35-39</td>\n",
       "      <td>0-2</td>\n",
       "      <td>yes</td>\n",
       "      <td>3</td>\n",
       "      <td>right</td>\n",
       "      <td>left_low</td>\n",
       "      <td>yes</td>\n",
       "      <td>no-recurrence-events</td>\n",
       "    </tr>\n",
       "    <tr>\n",
       "      <th>4</th>\n",
       "      <td>40-49</td>\n",
       "      <td>premeno</td>\n",
       "      <td>30-34</td>\n",
       "      <td>3-5</td>\n",
       "      <td>yes</td>\n",
       "      <td>2</td>\n",
       "      <td>left</td>\n",
       "      <td>right_up</td>\n",
       "      <td>no</td>\n",
       "      <td>recurrence-events</td>\n",
       "    </tr>\n",
       "  </tbody>\n",
       "</table>\n",
       "</div>"
      ]
     },
     "execution_count": 27,
     "metadata": {},
     "output_type": "execute_result"
    }
   ],
   "execution_count": 27
  },
  {
   "metadata": {
    "ExecuteTime": {
     "end_time": "2025-07-24T17:40:51.727900Z",
     "start_time": "2025-07-24T17:40:51.716675Z"
    }
   },
   "cell_type": "code",
   "source": [
    "# Ispravljen način za popunjavanje nedostajućih vrednosti\n",
    "for column in ['node-caps', 'breast-quad']:\n",
    "    most_frequent_value = df[column].mode()[0]\n",
    "    df[column] = df[column].fillna(most_frequent_value)\n",
    "\n",
    "    df.info( )"
   ],
   "id": "7b7eb7b36422874c",
   "outputs": [
    {
     "name": "stdout",
     "output_type": "stream",
     "text": [
      "<class 'pandas.core.frame.DataFrame'>\n",
      "RangeIndex: 286 entries, 0 to 285\n",
      "Data columns (total 10 columns):\n",
      " #   Column       Non-Null Count  Dtype \n",
      "---  ------       --------------  ----- \n",
      " 0   age          286 non-null    object\n",
      " 1   menopause    286 non-null    object\n",
      " 2   tumer-size   286 non-null    object\n",
      " 3   inv-nodes    286 non-null    object\n",
      " 4   node-caps    286 non-null    object\n",
      " 5   deg-malig    286 non-null    object\n",
      " 6   breast       286 non-null    object\n",
      " 7   breast-quad  286 non-null    object\n",
      " 8   irradiate    286 non-null    object\n",
      " 9   class        286 non-null    object\n",
      "dtypes: object(10)\n",
      "memory usage: 22.5+ KB\n",
      "<class 'pandas.core.frame.DataFrame'>\n",
      "RangeIndex: 286 entries, 0 to 285\n",
      "Data columns (total 10 columns):\n",
      " #   Column       Non-Null Count  Dtype \n",
      "---  ------       --------------  ----- \n",
      " 0   age          286 non-null    object\n",
      " 1   menopause    286 non-null    object\n",
      " 2   tumer-size   286 non-null    object\n",
      " 3   inv-nodes    286 non-null    object\n",
      " 4   node-caps    286 non-null    object\n",
      " 5   deg-malig    286 non-null    object\n",
      " 6   breast       286 non-null    object\n",
      " 7   breast-quad  286 non-null    object\n",
      " 8   irradiate    286 non-null    object\n",
      " 9   class        286 non-null    object\n",
      "dtypes: object(10)\n",
      "memory usage: 22.5+ KB\n"
     ]
    }
   ],
   "execution_count": 29
  },
  {
   "metadata": {
    "ExecuteTime": {
     "end_time": "2025-07-24T18:02:15.118273Z",
     "start_time": "2025-07-24T18:02:15.100048Z"
    }
   },
   "cell_type": "code",
   "source": [
    "##ENCODING\n",
    "X = df.drop('class', axis=1)\n",
    "y = df['class']"
   ],
   "id": "d16d09b500a7629e",
   "outputs": [],
   "execution_count": 30
  },
  {
   "metadata": {
    "ExecuteTime": {
     "end_time": "2025-07-24T18:08:50.929174Z",
     "start_time": "2025-07-24T18:08:49.628011Z"
    }
   },
   "cell_type": "code",
   "source": [
    "from sklearn.preprocessing import LabelEncoder\n",
    "\n",
    "le = LabelEncoder()\n",
    "y_encoded = le.fit_transform(y)\n",
    "\n",
    "# To see how function labeled our classes\n",
    "print(dict(zip(le.classes_, le.transform(le.classes_))))"
   ],
   "id": "6c909edd7392e928",
   "outputs": [
    {
     "name": "stdout",
     "output_type": "stream",
     "text": [
      "{'no-recurrence-events': np.int64(0), 'recurrence-events': np.int64(1)}\n"
     ]
    }
   ],
   "execution_count": 32
  }
 ],
 "metadata": {
  "kernelspec": {
   "display_name": "Python 3",
   "language": "python",
   "name": "python3"
  },
  "language_info": {
   "codemirror_mode": {
    "name": "ipython",
    "version": 2
   },
   "file_extension": ".py",
   "mimetype": "text/x-python",
   "name": "python",
   "nbconvert_exporter": "python",
   "pygments_lexer": "ipython2",
   "version": "2.7.6"
  }
 },
 "nbformat": 4,
 "nbformat_minor": 5
}
